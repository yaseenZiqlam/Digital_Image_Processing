{
 "cells": [
  {
   "cell_type": "markdown",
   "id": "7021bd6f-d5eb-46be-8a44-709f32649b8f",
   "metadata": {},
   "source": [
    "Assignment 1.A"
   ]
  },
  {
   "cell_type": "code",
   "execution_count": 4,
   "id": "7b74be00-5763-4a7c-b0fc-f20454bff91e",
   "metadata": {},
   "outputs": [],
   "source": [
    "from PIL import Image"
   ]
  },
  {
   "cell_type": "code",
   "execution_count": 5,
   "id": "0b7204a4-5972-44e9-a092-6655440a1c78",
   "metadata": {},
   "outputs": [],
   "source": [
    "LenaGray = Image.open(r'LenaGray.jpg')\n",
    "LenaGray.show()"
   ]
  },
  {
   "cell_type": "code",
   "execution_count": 6,
   "id": "6dbd914b-dfe2-441b-8615-42fa1ab26bf8",
   "metadata": {},
   "outputs": [],
   "source": [
    "PepperGrey=Image.open(r'PeppersGrey.jpg')\n",
    "PepperGrey.show()"
   ]
  },
  {
   "cell_type": "markdown",
   "id": "150ab3db-09a9-4115-a4a3-031dab0d6ef5",
   "metadata": {},
   "source": [
    "Assignment 1.B"
   ]
  },
  {
   "cell_type": "code",
   "execution_count": 7,
   "id": "d150939b-a517-4cb8-8eea-5c231d13de60",
   "metadata": {
    "tags": []
   },
   "outputs": [],
   "source": [
    "j = Image.new('L' , (256,256))\n",
    "\n",
    "for y in range(256):\n",
    "    for x in range (256):\n",
    "        if y <= 128:\n",
    "          gs_value = LenaGray.getpixel((x,y))\n",
    "          j.putpixel((x,y) , gs_value)\n",
    "        else:\n",
    "            gs_value = PepperGrey.getpixel((x,y))\n",
    "            j.putpixel((x,y) , gs_value)\n",
    "\n",
    "j.save('J.jpg')            \n",
    "j.show()        "
   ]
  },
  {
   "cell_type": "markdown",
   "id": "d325b6ac-e62c-4d2e-bcbc-4129b7defb12",
   "metadata": {},
   "source": [
    "Assignment 1.C"
   ]
  },
  {
   "cell_type": "code",
   "execution_count": 8,
   "id": "c11f25c2-1e26-41b1-a2d7-2e1ab96a281b",
   "metadata": {},
   "outputs": [],
   "source": [
    "j = Image.open('j.jpg')\n",
    "k = Image.new('L', (256, 256))\n",
    "\n",
    "for y in range(256):\n",
    "    for x in range(256):\n",
    "        gs_value = j.getpixel((x, y - 128))\n",
    "        k.putpixel((x, y), gs_value)\n",
    "\n",
    "k.save('k.jpg')\n",
    "k.show()"
   ]
  },
  {
   "cell_type": "markdown",
   "id": "15fe4987-4868-4bba-b199-3c82d9f88017",
   "metadata": {},
   "source": [
    "Assignment 2  (i) Image Negative"
   ]
  },
  {
   "cell_type": "code",
   "execution_count": 9,
   "id": "4cb54071-be31-4b81-b424-0624daee649a",
   "metadata": {},
   "outputs": [],
   "source": [
    "LenaGrayNoisy = Image.open('LenaGrayNoisy.jpg')\n",
    "LenaGrayNoisy.show()"
   ]
  },
  {
   "cell_type": "code",
   "execution_count": 10,
   "id": "82edd3bc-0e28-453e-92e3-1cf000a8cb80",
   "metadata": {},
   "outputs": [],
   "source": [
    "PeppersGrayNoisy = Image.open('PeppersGreyNoisy.jpg')\n",
    "PeppersGrayNoisy.show()"
   ]
  },
  {
   "cell_type": "code",
   "execution_count": 11,
   "id": "0d0a86d8-c62d-4df0-a829-18a30a1bfa95",
   "metadata": {},
   "outputs": [],
   "source": [
    "LenaGrayNoisy_Negative = Image.new('L' , (256,256))\n",
    "PeppersGrayNoisy_Negative = Image.new('L' , (256,256))"
   ]
  },
  {
   "cell_type": "markdown",
   "id": "df03500e-7383-4f61-b444-873d030526b5",
   "metadata": {},
   "source": [
    "Applying Negative To LenaGrayNoisy:"
   ]
  },
  {
   "cell_type": "code",
   "execution_count": 12,
   "id": "90bb913b-7240-4f35-8aad-74f506dced0a",
   "metadata": {},
   "outputs": [],
   "source": [
    "for y in range(256):\n",
    "    for x in range(256):\n",
    "        gs_value = LenaGrayNoisy.getpixel((x,y))\n",
    "        LenaGrayNoisy_Negative.putpixel((x,y) , 255 - gs_value)\n",
    "        \n",
    "LenaGrayNoisy_Negative.save('NegativeLena.jpg')                \n",
    "LenaGrayNoisy_Negative.show()        "
   ]
  },
  {
   "cell_type": "markdown",
   "id": "922a1fe5-ca96-4c2c-ae23-fad7728a128a",
   "metadata": {},
   "source": [
    "Applying Negative To PeppersGrayNoisy:"
   ]
  },
  {
   "cell_type": "code",
   "execution_count": 13,
   "id": "2849bd69-c283-4148-a68c-ce975fa57e85",
   "metadata": {},
   "outputs": [],
   "source": [
    "for y in range(256):\n",
    "    for x in range(256):\n",
    "        gs_value = PeppersGrayNoisy.getpixel((x,y))\n",
    "        PeppersGrayNoisy_Negative.putpixel((x,y) , 255 - gs_value)\n",
    "\n",
    "PeppersGrayNoisy_Negative.save('NegativePeppers.jpg')        \n",
    "PeppersGrayNoisy_Negative.show() "
   ]
  },
  {
   "cell_type": "markdown",
   "id": "8fd19676-433a-4443-94e2-c5c63d2e27db",
   "metadata": {},
   "source": [
    "Assignment 2 (ii) a gray scale Median Filter."
   ]
  },
  {
   "cell_type": "code",
   "execution_count": 14,
   "id": "7e89f716-7025-440c-b1f6-4c80f0aa5942",
   "metadata": {},
   "outputs": [],
   "source": [
    "import statistics\n",
    "LenaGrayNoisy_Median = Image.new('L' , (256,256))\n",
    "PeppersGrayNoisy_Median = Image.new('L' , (256,256))"
   ]
  },
  {
   "cell_type": "markdown",
   "id": "130b55c5-08ba-4660-becd-0879a66053dc",
   "metadata": {},
   "source": [
    "Function that returns 3 × 3 window:"
   ]
  },
  {
   "cell_type": "code",
   "execution_count": 15,
   "id": "be57161e-e216-4162-9936-a0728e186da9",
   "metadata": {},
   "outputs": [],
   "source": [
    "def window3(pixel, width, height):\n",
    "    x = pixel[0]\n",
    "    y = pixel[1]\n",
    "\n",
    "    if x == 0 or y == 0 or x == width - 1 or y == height - 1:\n",
    "        raise ValueError\n",
    "    \n",
    "    return [(x-1, y-1), (x, y-1), (x+1, y-1),\n",
    "            (x-1, y), (x,y), (x+1, y),\n",
    "            (x-1, y+1), (x, y+1), (x+1, y+1)]"
   ]
  },
  {
   "cell_type": "markdown",
   "id": "77f60aeb-61bd-430e-8766-72a2d927abda",
   "metadata": {},
   "source": [
    "Applying Median Filter to the original images:"
   ]
  },
  {
   "cell_type": "code",
   "execution_count": 16,
   "id": "15cd5be3-5e95-4c9c-bc99-d6ad8d9d8264",
   "metadata": {},
   "outputs": [],
   "source": [
    "for y in range(256):\n",
    "    for x in range(256):\n",
    "        try:\n",
    "           pixelwindow = window3((x, y), 256, 256)\n",
    "            \n",
    "           Lenawindowpixels = [LenaGrayNoisy.getpixel(i) for i in pixelwindow]\n",
    "           median = statistics.median(Lenawindowpixels)\n",
    "           LenaGrayNoisy_Median.putpixel((x,y), median)\n",
    "        \n",
    "           Pepperswindowpixels = [PeppersGrayNoisy.getpixel(i) for i in pixelwindow]\n",
    "           median = statistics.median(Pepperswindowpixels)\n",
    "           PeppersGrayNoisy_Median.putpixel((x,y), median)\n",
    "            \n",
    "        except ValueError:\n",
    "            \n",
    "            LenaGrayNoisy_Median.putpixel((x,y), 0)\n",
    "            PeppersGrayNoisy_Median.putpixel((x,y), 0)\n",
    "            \n",
    "\n",
    "LenaGrayNoisy_Median.save('MedianLena.jpg')\n",
    "PeppersGrayNoisy_Median.save('MedianPeppers.jpg')       "
   ]
  },
  {
   "cell_type": "code",
   "execution_count": 17,
   "id": "a3168940-b9e5-4105-9b9f-2ab81be60c7d",
   "metadata": {},
   "outputs": [],
   "source": [
    "LenaGrayNoisy_Median.show()"
   ]
  },
  {
   "cell_type": "code",
   "execution_count": 18,
   "id": "799fd703-fa12-425c-8740-fc8f3b5517bd",
   "metadata": {},
   "outputs": [],
   "source": [
    "PeppersGrayNoisy_Median.show()"
   ]
  },
  {
   "cell_type": "markdown",
   "id": "1939fb91-fe46-404a-a494-9e3d32017ff6",
   "metadata": {},
   "source": [
    "Applying Median Filter on the Negative images"
   ]
  },
  {
   "cell_type": "code",
   "execution_count": 19,
   "id": "07c75f56-207b-410f-a798-c0129faf5738",
   "metadata": {},
   "outputs": [],
   "source": [
    "for y in range(256):\n",
    "    for x in range(256):\n",
    "        try:\n",
    "           pixelwindow = window3((x, y), 256, 256)\n",
    "            \n",
    "           Lenawindowpixels = [LenaGrayNoisy_Negative.getpixel(i) for i in pixelwindow]\n",
    "           median = statistics.median(Lenawindowpixels)\n",
    "           LenaGrayNoisy_Median.putpixel((x,y), median)\n",
    "        \n",
    "           Pepperswindowpixels = [PeppersGrayNoisy_Negative.getpixel(i) for i in pixelwindow]\n",
    "           median = statistics.median(Pepperswindowpixels)\n",
    "           PeppersGrayNoisy_Median.putpixel((x,y), median)\n",
    "            \n",
    "        except ValueError:\n",
    "            \n",
    "            LenaGrayNoisy_Median.putpixel((x,y), 0)\n",
    "            PeppersGrayNoisy_Median.putpixel((x,y), 0)\n",
    "            \n",
    "\n",
    "LenaGrayNoisy_Median.save('MedianNegativeLena.jpg')\n",
    "PeppersGrayNoisy_Median.save('MedianNegativePeppers.jpg')   "
   ]
  },
  {
   "cell_type": "code",
   "execution_count": 20,
   "id": "3d75a8a0-2dab-4796-a198-9c550316101d",
   "metadata": {},
   "outputs": [],
   "source": [
    "LenaGrayNoisy_Median.show()"
   ]
  },
  {
   "cell_type": "code",
   "execution_count": 21,
   "id": "5fe1bce6-90ea-42ce-a232-e78d341a03c2",
   "metadata": {},
   "outputs": [],
   "source": [
    "PeppersGrayNoisy_Median.show()"
   ]
  }
 ],
 "metadata": {
  "kernelspec": {
   "display_name": "Python 3 (ipykernel)",
   "language": "python",
   "name": "python3"
  },
  "language_info": {
   "codemirror_mode": {
    "name": "ipython",
    "version": 3
   },
   "file_extension": ".py",
   "mimetype": "text/x-python",
   "name": "python",
   "nbconvert_exporter": "python",
   "pygments_lexer": "ipython3",
   "version": "3.11.5"
  }
 },
 "nbformat": 4,
 "nbformat_minor": 5
}
