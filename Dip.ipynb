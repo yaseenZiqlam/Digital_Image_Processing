{
 "cells": [
  {
   "cell_type": "markdown",
   "id": "60b8c7bf-ed45-47e5-a99e-af567adacfc0",
   "metadata": {},
   "source": [
    "Assignment 1.A"
   ]
  },
  {
   "cell_type": "code",
   "execution_count": 1,
   "id": "26810403-9930-457a-a1c3-8afb55c18bc9",
   "metadata": {},
   "outputs": [],
   "source": [
    "import numpy as np\n",
    "from PIL import Image\n",
    "img0=Image.open(r\"LenaGray.jpg\")\n",
    "img1=Image.open(r\"PeppersGrey.jpg\")\n",
    "img0.show()\n",
    "img1.show()"
   ]
  },
  {
   "cell_type": "markdown",
   "id": "ec959a75-0e04-423c-b1ba-fc8d3b476a5e",
   "metadata": {},
   "source": [
    "Assignment 1.B"
   ]
  },
  {
   "cell_type": "code",
   "execution_count": 2,
   "id": "c0e3a795-70f3-4b73-80d0-4dd7206134ab",
   "metadata": {
    "tags": []
   },
   "outputs": [],
   "source": [
    "image0_pixels=np.array(img0.getdata())\n",
    "image1_pixels=np.array(img1.getdata())\n",
    "image0_pixels=image0_pixels.reshape(256,256)\n",
    "image1_pixels=image1_pixels.reshape(256,256)\n",
    "image0_pixels=image0_pixels[:128, :]\n",
    "image1_pixels=image1_pixels[128:, :]\n",
    "image1_2=np.concatenate((image0_pixels,image1_pixels),axis=0)\n",
    "final_result=Image.fromarray(image1_2)\n",
    "final_result.show()\n",
    "final_result=final_result.convert(\"L\")\n",
    "final_result.save(\"J.jpg\")"
   ]
  },
  {
   "cell_type": "markdown",
   "id": "cad40287-d9c7-43f0-9d75-75cda35279de",
   "metadata": {},
   "source": [
    "Assignment 1.C"
   ]
  },
  {
   "cell_type": "code",
   "execution_count": 3,
   "id": "f03cd464-2cb7-4d54-ae11-22312e076266",
   "metadata": {
    "tags": []
   },
   "outputs": [],
   "source": [
    "img3=Image.open(\"J.jpg\")\n",
    "k_pixels=np.array(img3.getdata())\n",
    "size=img3.size\n",
    "k_pixels=k_pixels.reshape(size[0],size[1])\n",
    "part1=k_pixels[:256//2, :]\n",
    "part2=k_pixels[256//2:, :]\n",
    "partAll=np.concatenate((part2,part1),axis=0)\n",
    "k_final=Image.fromarray(partAll)\n",
    "k_final=k_final.convert(\"L\")\n",
    "k_final.save(\"K.jpg\")\n",
    "k_final.show()"
   ]
  },
  {
   "cell_type": "markdown",
   "id": "525a253c-5612-4e82-a39e-47134b9b0bad",
   "metadata": {},
   "source": [
    "Assignment 2  (i) Image Negative"
   ]
  },
  {
   "cell_type": "code",
   "execution_count": 26,
   "id": "761e855b-4adb-4bf6-a322-3ebc806e09f1",
   "metadata": {
    "tags": []
   },
   "outputs": [],
   "source": [
    "def apply_image_negative(input_array):\n",
    "    input_array = np.asarray(input_array, dtype=np.uint8)\n",
    "    negative_array = 255 - input_array\n",
    "    return negative_array\n",
    "\n",
    "img3=Image.open(\"LenaGrayNoisy.jpg\")\n",
    "size=img3.size\n",
    "image3_pixels=np.array(img3.getdata())\n",
    "image3_pixels=image3_pixels.reshape(size[0],size[1])\n",
    "img4=Image.open(\"PeppersGreyNoisy.jpg\")\n",
    "imag4_pixels=np.array(img4.getdata())\n",
    "imag4_pixels=imag4_pixels.reshape(size[0],size[1])\n",
    "\n",
    "x=apply_image_negative(image3_pixels)\n",
    "za=apply_image_negative(imag4_pixels)\n",
    "x=Image.fromarray(x)\n",
    "za=Image.fromarray(za)\n",
    "\n",
    "x.save(\"Negative lena.jpg\")\n",
    "x.show()\n",
    "za.save(\"Negative peppers.jpg\")\n",
    "za.show()\n"
   ]
  },
  {
   "cell_type": "markdown",
   "id": "459d921e-10cd-4c39-8008-6e8e97151dd4",
   "metadata": {},
   "source": [
    "Assignment 2 (ii) a gray scale Median Filter."
   ]
  },
  {
   "cell_type": "code",
   "execution_count": 27,
   "id": "ff2bffe5-f449-4d85-877d-dee223f38117",
   "metadata": {},
   "outputs": [],
   "source": [
    "def apply_image_negative(input_array):\n",
    "    input_array = np.asarray(input_array, dtype=np.uint8)\n",
    "    negative_array = 255 - input_array\n",
    "    return negative_array\n",
    "\n",
    "def apply_median_filter(input_array):\n",
    "    rows, cols = input_array.shape\n",
    "    filtered_array = np.zeros_like(input_array, dtype=np.uint8)\n",
    "    for i in range(1, rows - 1):\n",
    "        for j in range(1, cols - 1):\n",
    "            window = input_array[i - 1:i + 2, j - 1:j + 2].ravel()\n",
    "            filtered_array[i, j] = np.median(window)\n",
    "    return filtered_array\n",
    "\n",
    "img3=Image.open(\"LenaGrayNoisy.jpg\")\n",
    "size=img3.size\n",
    "image3_pixels=np.array(img3.getdata())\n",
    "image3_pixels=image3_pixels.reshape(size[0],size[1])\n",
    "img4=Image.open(\"PeppersGreyNoisy.jpg\")\n",
    "imag4_pixels=np.array(img4.getdata())\n",
    "imag4_pixels=imag4_pixels.reshape(size[0],size[1])\n",
    "\n",
    "x=apply_image_negative(image3_pixels)\n",
    "y=apply_median_filter(image3_pixels)\n",
    "xy=apply_median_filter(x)\n",
    "\n",
    "za=apply_image_negative(imag4_pixels)\n",
    "zs=apply_median_filter(imag4_pixels)\n",
    "zg=apply_median_filter(za)\n",
    "\n",
    "\n",
    "y=Image.fromarray(y)\n",
    "xy=Image.fromarray(xy)\n",
    "zs=Image.fromarray(zs)\n",
    "zg=Image.fromarray(zg)\n",
    "zs.save(\"Median peppers.jpg\")\n",
    "zs.show()\n",
    "zg.save(\"Both peppers.jpg\")\n",
    "zg.show()\n",
    "y.save(\"Median lena.jpg\")\n",
    "y.show()\n",
    "xy.save(\"Both lena.jpg\")\n",
    "xy.show()"
   ]
  }
 ],
 "metadata": {
  "kernelspec": {
   "display_name": "Python 3 (ipykernel)",
   "language": "python",
   "name": "python3"
  },
  "language_info": {
   "codemirror_mode": {
    "name": "ipython",
    "version": 3
   },
   "file_extension": ".py",
   "mimetype": "text/x-python",
   "name": "python",
   "nbconvert_exporter": "python",
   "pygments_lexer": "ipython3",
   "version": "3.9.7"
  }
 },
 "nbformat": 4,
 "nbformat_minor": 5
}
